{
  "nbformat": 4,
  "nbformat_minor": 0,
  "metadata": {
    "colab": {
      "name": "hw3.ipynb",
      "provenance": [],
      "authorship_tag": "ABX9TyOj2yTbvPX2Xz6fnZNhocYf",
      "include_colab_link": true
    },
    "kernelspec": {
      "name": "python3",
      "display_name": "Python 3"
    },
    "language_info": {
      "name": "python"
    }
  },
  "cells": [
    {
      "cell_type": "markdown",
      "metadata": {
        "id": "view-in-github",
        "colab_type": "text"
      },
      "source": [
        "<a href=\"https://colab.research.google.com/github/EShepotinnik/meth_viz/blob/main/hw3.ipynb\" target=\"_parent\"><img src=\"https://colab.research.google.com/assets/colab-badge.svg\" alt=\"Open In Colab\"/></a>"
      ]
    },
    {
      "cell_type": "markdown",
      "metadata": {
        "id": "oLL3pQt2PnL0"
      },
      "source": [
        "### Шепотинник Егор\n",
        "### Группа М03-12Б\n",
        "\n",
        "\n",
        "---\n",
        "\n",
        "# Задание №3"
      ]
    },
    {
      "cell_type": "code",
      "metadata": {
        "colab": {
          "base_uri": "https://localhost:8080/"
        },
        "id": "l8BIhaDp9moi",
        "outputId": "9ab71ef5-8474-4902-8818-9d0846d25fce"
      },
      "source": [
        "!git clone 'https://github.com/EShepotinnik/meth_viz.git'"
      ],
      "execution_count": 1,
      "outputs": [
        {
          "output_type": "stream",
          "text": [
            "fatal: destination path 'meth_viz' already exists and is not an empty directory.\n"
          ],
          "name": "stdout"
        }
      ]
    },
    {
      "cell_type": "code",
      "metadata": {
        "colab": {
          "base_uri": "https://localhost:8080/"
        },
        "id": "GWqnhlWw_gj5",
        "outputId": "7d7ff45c-7dd5-4be1-fcbb-b405e5ea7ff7"
      },
      "source": [
        "! pip install python-sat[pblib,aiger]"
      ],
      "execution_count": 1,
      "outputs": [
        {
          "output_type": "stream",
          "text": [
            "Requirement already satisfied: python-sat[aiger,pblib] in /usr/local/lib/python3.7/dist-packages (0.1.7.dev3)\n",
            "Requirement already satisfied: six in /usr/local/lib/python3.7/dist-packages (from python-sat[aiger,pblib]) (1.15.0)\n",
            "Requirement already satisfied: py-aiger-cnf>=2.0.0; extra == \"aiger\" in /usr/local/lib/python3.7/dist-packages (from python-sat[aiger,pblib]) (5.0.1)\n",
            "Requirement already satisfied: pypblib>=0.0.3; extra == \"pblib\" in /usr/local/lib/python3.7/dist-packages (from python-sat[aiger,pblib]) (0.0.4)\n",
            "Requirement already satisfied: funcy<2.0,>=1.12 in /usr/local/lib/python3.7/dist-packages (from py-aiger-cnf>=2.0.0; extra == \"aiger\"->python-sat[aiger,pblib]) (1.16)\n",
            "Requirement already satisfied: py-aiger<7.0.0,>=6.0.0 in /usr/local/lib/python3.7/dist-packages (from py-aiger-cnf>=2.0.0; extra == \"aiger\"->python-sat[aiger,pblib]) (6.1.14)\n",
            "Requirement already satisfied: bidict<0.22.0,>=0.21.0 in /usr/local/lib/python3.7/dist-packages (from py-aiger-cnf>=2.0.0; extra == \"aiger\"->python-sat[aiger,pblib]) (0.21.2)\n",
            "Requirement already satisfied: sortedcontainers<3.0.0,>=2.3.0 in /usr/local/lib/python3.7/dist-packages (from py-aiger<7.0.0,>=6.0.0->py-aiger-cnf>=2.0.0; extra == \"aiger\"->python-sat[aiger,pblib]) (2.4.0)\n",
            "Requirement already satisfied: attrs<21.0.0,>=20.0.0 in /usr/local/lib/python3.7/dist-packages (from py-aiger<7.0.0,>=6.0.0->py-aiger-cnf>=2.0.0; extra == \"aiger\"->python-sat[aiger,pblib]) (20.3.0)\n",
            "Requirement already satisfied: toposort<2.0,>=1.5 in /usr/local/lib/python3.7/dist-packages (from py-aiger<7.0.0,>=6.0.0->py-aiger-cnf>=2.0.0; extra == \"aiger\"->python-sat[aiger,pblib]) (1.6)\n",
            "Requirement already satisfied: parsimonious<0.9.0,>=0.8.1 in /usr/local/lib/python3.7/dist-packages (from py-aiger<7.0.0,>=6.0.0->py-aiger-cnf>=2.0.0; extra == \"aiger\"->python-sat[aiger,pblib]) (0.8.1)\n",
            "Requirement already satisfied: pyrsistent<0.18.0,>=0.17.0 in /usr/local/lib/python3.7/dist-packages (from py-aiger<7.0.0,>=6.0.0->py-aiger-cnf>=2.0.0; extra == \"aiger\"->python-sat[aiger,pblib]) (0.17.3)\n"
          ],
          "name": "stdout"
        }
      ]
    },
    {
      "cell_type": "code",
      "metadata": {
        "id": "Lh-rKk6cAFbM"
      },
      "source": [
        "import pprint\n",
        "import re\n",
        "from pysat.solvers import Solver\n",
        "from matplotlib import patches\n",
        "from matplotlib import pyplot as plt\n",
        "from matplotlib.collections import PatchCollection"
      ],
      "execution_count": 12,
      "outputs": []
    },
    {
      "cell_type": "markdown",
      "metadata": {
        "id": "s2u3vP0TClhv"
      },
      "source": [
        "Задаем парсер текса\n"
      ]
    },
    {
      "cell_type": "code",
      "metadata": {
        "id": "-3tENvEBCkei"
      },
      "source": [
        "def parser(data):\n",
        "    points = []\n",
        "    all_boxes = []\n",
        "    index_box = 1\n",
        "    for row in data:\n",
        "        point_xy, w_h, variants = row.splitlines()[0].split('\\t')\n",
        "        point_x, point_y = point_xy.split(',')\n",
        "        point_x = int(point_x)\n",
        "        point_y = int(point_y)\n",
        "        w, h = w_h.split(',')\n",
        "        w = int(w)\n",
        "        h = int(h)\n",
        "\n",
        "        point = (point_x, point_y)\n",
        "        point_x_boxs = {point: []}\n",
        "        \n",
        "        for var_x, var_y in (var.split(',') for var in variants.split(\" \")):\n",
        "            var_x = int(var_x)\n",
        "            var_y = int(var_y)\n",
        "            box_x = point_x - var_x\n",
        "            box_y = point_y - var_y\n",
        "        \n",
        "            box = (box_x, box_y, w, h,index_box, point)\n",
        "\n",
        "            index_box +=1\n",
        "\n",
        "            point_x_boxs[point].append(box)\n",
        "            all_boxes.append(box)\n",
        "\n",
        "        points.append(point_x_boxs)\n",
        "\n",
        "    return points, all_boxes"
      ],
      "execution_count": 8,
      "outputs": []
    },
    {
      "cell_type": "markdown",
      "metadata": {
        "id": "xUW_Nm6iGjJs"
      },
      "source": [
        "Пересечения"
      ]
    },
    {
      "cell_type": "code",
      "metadata": {
        "id": "j6lHwGZEGhWv"
      },
      "source": [
        "def inters_x(box1, box2):\n",
        "    return ((box1[0] <= box2[0] <= box1[0] + box1[2]) or (box2[0] <= box1[0] <= box2[0] + box2[2])) \n",
        "\n",
        "def inters_y(box1, box2):\n",
        "    return ((box1[1] <= box2[1] <= box1[1] + box1[3]) or (box2[1] <= box1[1] <= box2[1] + box2[3]))\n",
        "\n",
        "def inters(box1, box2):\n",
        "    return inters_x(box1, box2) and inters_y(box1, box2)"
      ],
      "execution_count": 3,
      "outputs": []
    },
    {
      "cell_type": "markdown",
      "metadata": {
        "id": "L317qx0kIDSZ"
      },
      "source": [
        "Находим все пересечения"
      ]
    },
    {
      "cell_type": "code",
      "metadata": {
        "id": "hBgdG6bwHSgj"
      },
      "source": [
        "def find_all_intersect(all_box):\n",
        "    all_inters = {}\n",
        "    for box1 in all_box:\n",
        "        for box2 in all_box:\n",
        "            if (box1[5] == box2[5]) or (box1[4] == box2[4]) :\n",
        "                continue\n",
        "            elif inters(box1, box2):\n",
        "                if box1[4] not in all_inters:\n",
        "                    all_inters[box1[4]] = set()\n",
        "                all_inters[box1[4]].add(box2[4])\n",
        "\n",
        "                if box2[4] not in all_inters:\n",
        "                    all_inters[box2[4]] = set()\n",
        "                all_inters[box2[4]].add(box1[4])\n",
        "    return all_inters"
      ],
      "execution_count": 4,
      "outputs": []
    },
    {
      "cell_type": "code",
      "metadata": {
        "id": "r8FjflbTJkc_"
      },
      "source": [
        "def sat_solv(all_boxes, points):\n",
        "  \n",
        "  all_inter = find_all_intersect(all_boxes)\n",
        "  ind_boxes = {box[4]: box for box in all_boxes}\n",
        "\n",
        "  with Solver(name=\"mc\") as solver:\n",
        "    for point in points:\n",
        "      boxs_ids = [box[4] for box in next(iter(point.values()))]\n",
        "      solver.add_atmost(boxs_ids, 1)\n",
        "      solver.add_clause(boxs_ids)\n",
        "    for box in all_boxes:\n",
        "      if box[4] in all_inter:\n",
        "        for confId in all_inter[box[4]]:\n",
        "          solver.add_clause([-box[4], -confId])\n",
        "    if solver.solve() == True:\n",
        "      ids = solver.get_model()\n",
        "      return [ind_boxes[idx] for idx in ids if idx > 0]\n",
        "    else:\n",
        "      print(\"Решение нет!\")\n",
        "      return "
      ],
      "execution_count": 6,
      "outputs": []
    },
    {
      "cell_type": "markdown",
      "metadata": {
        "id": "yvI_EyUxMsUy"
      },
      "source": [
        ""
      ]
    },
    {
      "cell_type": "code",
      "metadata": {
        "id": "QORno745Motr"
      },
      "source": [
        "def draw_labels(boxs, points):\n",
        "    fig, ax = plt.subplots(figsize=(12, 8))\n",
        "\n",
        "    patch_boxs = [patches.Rectangle((box[0], box[1]), box[2], box[3]) for i, box in enumerate(boxs)]\n",
        "    patch_collection = PatchCollection(patch_boxs, facecolor='r', edgecolor='black')\n",
        "    ax.add_collection(patch_collection)\n",
        "    \n",
        "    scatter_x = [p[0] for p in points]\n",
        "    scatter_y = [p[1] for p in points]\n",
        "    ax.scatter(scatter_x, scatter_y, color='black')\n",
        "\n",
        "    plt.show()"
      ],
      "execution_count": 13,
      "outputs": []
    },
    {
      "cell_type": "code",
      "metadata": {
        "id": "6m29GpaBD3Lw"
      },
      "source": [
        "file = open('meth_viz/bins/bin1.txt', \"r\")\n",
        "all_points, all_boxes = parser(file)"
      ],
      "execution_count": 14,
      "outputs": []
    },
    {
      "cell_type": "code",
      "metadata": {
        "colab": {
          "base_uri": "https://localhost:8080/",
          "height": 483
        },
        "id": "8GdX-LeyJ72K",
        "outputId": "404f0de3-83b9-457e-ece1-cdb4778411a8"
      },
      "source": [
        "result_boxs = sat_solv(all_boxes, all_points)\n",
        "draw_labels(result_boxs, [next(iter(point.keys())) for point in all_points])"
      ],
      "execution_count": 15,
      "outputs": [
        {
          "output_type": "display_data",
          "data": {
            "image/png": "[encoded data removed]",
            "text/plain": [
              "<Figure size 864x576 with 1 Axes>"
            ]
          },
          "metadata": {
            "tags": [],
            "needs_background": "light"
          }
        }
      ]
    }
  ]
}